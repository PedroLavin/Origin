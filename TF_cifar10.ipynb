{
  "nbformat": 4,
  "nbformat_minor": 0,
  "metadata": {
    "colab": {
      "name": "TF-cifar10.ipynb",
      "provenance": [],
      "authorship_tag": "ABX9TyMC4N5zNpCIB5qYGkTFXtXc",
      "include_colab_link": true
    },
    "kernelspec": {
      "name": "python3",
      "display_name": "Python 3"
    }
  },
  "cells": [
    {
      "cell_type": "markdown",
      "metadata": {
        "id": "view-in-github",
        "colab_type": "text"
      },
      "source": [
        "<a href=\"https://colab.research.google.com/github/PedroLavin/Origin/blob/master/TF_cifar10.ipynb\" target=\"_parent\"><img src=\"https://colab.research.google.com/assets/colab-badge.svg\" alt=\"Open In Colab\"/></a>"
      ]
    },
    {
      "cell_type": "code",
      "metadata": {
        "id": "3X9E0nYuJUcn"
      },
      "source": [
        "import numpy as np\r\n",
        "import matplotlib.pyplot as plt\r\n",
        "import tensorflow\r\n",
        "from tensorflow.keras.models import Model\r\n",
        "from tensorflow.keras.layers import Dense, Conv2D, Input, Flatten, Dropout, GlobalMaxPooling2D, MaxPooling2D, BatchNormalization\r\n",
        "from keras.utils import np_utils\r\n",
        "from tensorflow.keras.datasets import cifar10\r\n",
        "import tensorflow as tf"
      ],
      "execution_count": 1,
      "outputs": []
    },
    {
      "cell_type": "code",
      "metadata": {
        "colab": {
          "base_uri": "https://localhost:8080/"
        },
        "id": "R6WyLxv5JcBU",
        "outputId": "9d35cc9a-31c1-411e-d19e-d28ecc1cfbec"
      },
      "source": [
        "(x_train, y_train), (x_test, y_test) = cifar10.load_data()\r\n",
        "x_train, x_test = x_train / 255.0, x_test / 255.0\r\n",
        "y_train, y_test = y_train.flatten(), y_test.flatten()\r\n",
        "print(y_train)\r\n"
      ],
      "execution_count": 9,
      "outputs": [
        {
          "output_type": "stream",
          "text": [
            "[6 9 9 ... 9 1 1]\n"
          ],
          "name": "stdout"
        }
      ]
    },
    {
      "cell_type": "code",
      "metadata": {
        "colab": {
          "base_uri": "https://localhost:8080/"
        },
        "id": "WTNNssRaK4OL",
        "outputId": "495e9a5f-f7b3-4c28-ca5b-306639e69be9"
      },
      "source": [
        "K = len(set(y_train))\r\n",
        "print(K)\r\n"
      ],
      "execution_count": 12,
      "outputs": [
        {
          "output_type": "stream",
          "text": [
            "10\n",
            "50000\n"
          ],
          "name": "stdout"
        }
      ]
    },
    {
      "cell_type": "code",
      "metadata": {
        "id": "DYYyCzjNLSfG"
      },
      "source": [
        "#build the CNN using the Keras functional API. This time it is a coloured image, the input is 5000x32x32x3\r\n",
        "i = Input(shape=x_train[0].shape)\r\n",
        "x = Conv2D(32, (3, 3),  activation='relu', padding='same')(i)\r\n",
        "x = BatchNormalization()(x)\r\n",
        "x = Conv2D(32, (3, 3),  activation='relu', padding='same')(i)\r\n",
        "x = BatchNormalization()(x)\r\n",
        "x = MaxPooling2D((2, 2))(x)\r\n",
        "# Dropout\r\n",
        "x = Conv2D(64, (3, 3), activation='relu', padding='same')(x)\r\n",
        "x = BatchNormalization()(x)\r\n",
        "x = Conv2D(64, (3, 3), activation='relu', padding='same')(x)\r\n",
        "x = BatchNormalization()(x)\r\n",
        "x  = MaxPooling2D((2, 2))(x)\r\n",
        "#Dropout\r\n",
        "x = Conv2D(128, (3, 3), activation='relu')(x)\r\n",
        "x = BatchNormalization()(x)\r\n",
        "x = Conv2D(128, (3, 3), activation='relu')(x)\r\n",
        "x = BatchNormalization()(x)\r\n",
        "x = MaxPooling2D((2, 2))(x)\r\n",
        "# x = GlobalMaxPooling2D()\r\n",
        "x = Flatten()(x)\r\n",
        "x = Dropout(0.2)(x)\r\n",
        "x = Dense(1024, activation='relu')(x)\r\n",
        "x = Dropout(0.2)(x)\r\n",
        "x = Dense(K, activation='softmax')(x)\r\n",
        "\r\n",
        "model = Model(i, x)"
      ],
      "execution_count": null,
      "outputs": []
    },
    {
      "cell_type": "code",
      "metadata": {
        "id": "7_g03YkDL49j"
      },
      "source": [
        "model.compile(optimizer='adam', loss='sparse_categorical_crossentropy', metrics=['accuracy'])\r\n",
        "r = model.fit(x_train, y_train, validation_data=(x_test, y_test), epochs = 15)"
      ],
      "execution_count": null,
      "outputs": []
    },
    {
      "cell_type": "code",
      "metadata": {
        "id": "z835ACwQR0d2"
      },
      "source": [
        "# Add data augmentation\r\n",
        "batch_size = 32\r\n",
        "data_generator = tf.keras.preprocessing.image.ImageDataGenerator(width_shift_range=0.1, height_shift_range=0.1, horizontal_flip=True)\r\n",
        "train_generator = data_generaotr.flow(x_train, y_train, batch_size)\r\n",
        "steps_per_epoch = x_train.shape[0] // batch_size\r\n",
        "r = model.fit_generator(train_generator, validation_data=(x_Test, y_test), steps_per_epoch=steps_per_epoch, epochs=50)"
      ],
      "execution_count": null,
      "outputs": []
    }
  ]
}