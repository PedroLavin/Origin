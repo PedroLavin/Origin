{
  "nbformat": 4,
  "nbformat_minor": 0,
  "metadata": {
    "colab": {
      "name": "TF2.0 Intro.ipynb",
      "provenance": [],
      "authorship_tag": "ABX9TyN9yPLpCFNTviXsSoo/524c",
      "include_colab_link": true
    },
    "kernelspec": {
      "name": "python3",
      "display_name": "Python 3"
    }
  },
  "cells": [
    {
      "cell_type": "markdown",
      "metadata": {
        "id": "view-in-github",
        "colab_type": "text"
      },
      "source": [
        "<a href=\"https://colab.research.google.com/github/PedroLavin/Origin/blob/master/TF2_0_Intro.ipynb\" target=\"_parent\"><img src=\"https://colab.research.google.com/assets/colab-badge.svg\" alt=\"Open In Colab\"/></a>"
      ]
    },
    {
      "cell_type": "code",
      "metadata": {
        "id": "MWqwy7c0M5Ku"
      },
      "source": [
        ""
      ],
      "execution_count": null,
      "outputs": []
    },
    {
      "cell_type": "code",
      "metadata": {
        "id": "8tT6Ggq6NhTx"
      },
      "source": [
        "import numpy as np\r\n",
        "import matplotlib.pyplot as plt\r\n",
        "import tensorflow\r\n",
        "from tensorflow.keras.models import Model\r\n",
        "from tensorflow.keras.layers import Dense, Conv2D, Input, Flatten, Dropout\r\n",
        "from keras.utils import np_utils\r\n",
        "from tensorflow.keras.datasets import fashion_mnist"
      ],
      "execution_count": 1,
      "outputs": []
    },
    {
      "cell_type": "code",
      "metadata": {
        "colab": {
          "base_uri": "https://localhost:8080/"
        },
        "id": "t6HxcEW6OcgQ",
        "outputId": "0d4bbf1f-2007-4fc9-b34f-76cda366cdff"
      },
      "source": [
        "import tensorflow as tf\r\n",
        "print(tf.__version__)"
      ],
      "execution_count": 2,
      "outputs": [
        {
          "output_type": "stream",
          "text": [
            "2.4.1\n"
          ],
          "name": "stdout"
        }
      ]
    },
    {
      "cell_type": "code",
      "metadata": {
        "id": "wygtH8zQ-CDe"
      },
      "source": [
        "(x_train, y_train), (x_test, y_test) = fashion_mnist.load_data()\r\n",
        "x_train, x_test = x_train / 255.0, x_test / 255.0\r\n"
      ],
      "execution_count": 4,
      "outputs": []
    },
    {
      "cell_type": "code",
      "metadata": {
        "id": "Ts-B4d__A_P0"
      },
      "source": [
        "#The network a three dimensional input, so we add one dimension\r\n",
        "x_train = np.expand_dims(x_train, -1)\r\n",
        "x_test = np.expand_dims(x_test, -1)\r\n"
      ],
      "execution_count": 5,
      "outputs": []
    },
    {
      "cell_type": "code",
      "metadata": {
        "id": "iaa9YBCsBPaW"
      },
      "source": [
        "K = len(set(y_train))"
      ],
      "execution_count": 10,
      "outputs": []
    },
    {
      "cell_type": "code",
      "metadata": {
        "id": "wHXA7wf1BU2g"
      },
      "source": [
        "#build the CNN using the Keras functional API\r\n",
        "i = Input(shape=x_train[0].shape)\r\n",
        "x = Conv2D(32, (3, 3), strides=2, activation='relu')(i)\r\n",
        "x = Conv2D(64, (3, 3), strides=2, activation='relu')(x)\r\n",
        "x = Conv2D(128, (3, 3), strides=2, activation='relu')(x)\r\n",
        "x = Flatten()(x)\r\n",
        "x = Dropout(0.2)(x)\r\n",
        "x = Dense(512, activation='relu')(x)\r\n",
        "x = Dropout(0.2)(x)\r\n",
        "x = Dense(K, activation='softmax')(x)\r\n",
        "\r\n",
        "model = Model(i, x)"
      ],
      "execution_count": 11,
      "outputs": []
    },
    {
      "cell_type": "code",
      "metadata": {
        "colab": {
          "base_uri": "https://localhost:8080/"
        },
        "id": "AnNkvA4ZC4WC",
        "outputId": "248c2d1d-31ee-46db-df72-f0ad4db1b6b7"
      },
      "source": [
        "model.compile(optimizer='adam', loss='sparse_categorical_crossentropy', metrics=['accuracy'])\r\n",
        "r = model.fit(x_train, y_train, validation_data=(x_test, y_test), epochs = 15)"
      ],
      "execution_count": 13,
      "outputs": [
        {
          "output_type": "stream",
          "text": [
            "Epoch 1/15\n",
            "1875/1875 [==============================] - 25s 13ms/step - loss: 0.7037 - accuracy: 0.7431 - val_loss: 0.4126 - val_accuracy: 0.8421\n",
            "Epoch 2/15\n",
            "1875/1875 [==============================] - 24s 13ms/step - loss: 0.3817 - accuracy: 0.8558 - val_loss: 0.3526 - val_accuracy: 0.8677\n",
            "Epoch 3/15\n",
            "1875/1875 [==============================] - 24s 13ms/step - loss: 0.3174 - accuracy: 0.8794 - val_loss: 0.3195 - val_accuracy: 0.8799\n",
            "Epoch 4/15\n",
            "1875/1875 [==============================] - 24s 13ms/step - loss: 0.2845 - accuracy: 0.8912 - val_loss: 0.3139 - val_accuracy: 0.8851\n",
            "Epoch 5/15\n",
            "1875/1875 [==============================] - 24s 13ms/step - loss: 0.2530 - accuracy: 0.9046 - val_loss: 0.3170 - val_accuracy: 0.8857\n",
            "Epoch 6/15\n",
            "1875/1875 [==============================] - 24s 13ms/step - loss: 0.2308 - accuracy: 0.9119 - val_loss: 0.3061 - val_accuracy: 0.8903\n",
            "Epoch 7/15\n",
            "1875/1875 [==============================] - 24s 13ms/step - loss: 0.2090 - accuracy: 0.9197 - val_loss: 0.2944 - val_accuracy: 0.8944\n",
            "Epoch 8/15\n",
            "1875/1875 [==============================] - 24s 13ms/step - loss: 0.1942 - accuracy: 0.9272 - val_loss: 0.2990 - val_accuracy: 0.9009\n",
            "Epoch 9/15\n",
            "1875/1875 [==============================] - 24s 13ms/step - loss: 0.1780 - accuracy: 0.9323 - val_loss: 0.2962 - val_accuracy: 0.8985\n",
            "Epoch 10/15\n",
            "1875/1875 [==============================] - 24s 13ms/step - loss: 0.1612 - accuracy: 0.9378 - val_loss: 0.3133 - val_accuracy: 0.8974\n",
            "Epoch 11/15\n",
            "1875/1875 [==============================] - 24s 13ms/step - loss: 0.1544 - accuracy: 0.9411 - val_loss: 0.3187 - val_accuracy: 0.8975\n",
            "Epoch 12/15\n",
            "1875/1875 [==============================] - 24s 13ms/step - loss: 0.1429 - accuracy: 0.9460 - val_loss: 0.3358 - val_accuracy: 0.8998\n",
            "Epoch 13/15\n",
            "1875/1875 [==============================] - 24s 13ms/step - loss: 0.1304 - accuracy: 0.9495 - val_loss: 0.3320 - val_accuracy: 0.8975\n",
            "Epoch 14/15\n",
            "1875/1875 [==============================] - 24s 13ms/step - loss: 0.1240 - accuracy: 0.9528 - val_loss: 0.3564 - val_accuracy: 0.8978\n",
            "Epoch 15/15\n",
            "1875/1875 [==============================] - 24s 13ms/step - loss: 0.1195 - accuracy: 0.9533 - val_loss: 0.3523 - val_accuracy: 0.8998\n"
          ],
          "name": "stdout"
        }
      ]
    },
    {
      "cell_type": "code",
      "metadata": {
        "colab": {
          "base_uri": "https://localhost:8080/",
          "height": 282
        },
        "id": "JTXb_yRjFum1",
        "outputId": "45093a4b-4ad7-4f24-86df-0e4fed25cad7"
      },
      "source": [
        "plt.plot(r.history['loss'], label='loss')\r\n",
        "plt.plot(r.history['val_loss'], label='val_loss')\r\n",
        "plt.legend()"
      ],
      "execution_count": 17,
      "outputs": [
        {
          "output_type": "execute_result",
          "data": {
            "text/plain": [
              "<matplotlib.legend.Legend at 0x7f02afc4e5c0>"
            ]
          },
          "metadata": {
            "tags": []
          },
          "execution_count": 17
        },
        {
          "output_type": "display_data",
          "data": {
            "image/png": "[encoded data removed]",
            "text/plain": [
              "<Figure size 432x288 with 1 Axes>"
            ]
          },
          "metadata": {
            "tags": [],
            "needs_background": "light"
          }
        }
      ]
    }
  ]
}